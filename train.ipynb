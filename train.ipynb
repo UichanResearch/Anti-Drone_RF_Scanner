{
 "cells": [
  {
   "cell_type": "markdown",
   "metadata": {},
   "source": [
    "# 1. import"
   ]
  },
  {
   "cell_type": "code",
   "execution_count": 35,
   "metadata": {},
   "outputs": [],
   "source": [
    "# 필요한 모델들을 import 합니다.\n",
    "\n",
    "# 기본\n",
    "import os\n",
    "import json\n",
    "import copy\n",
    "from tqdm import tqdm\n",
    "\n",
    "# 이미지 처리\n",
    "import random\n",
    "random.seed(42)\n",
    "\n",
    "# torch Data\n",
    "from torch.utils.data import DataLoader\n",
    "\n",
    "# model \n",
    "import torch\n",
    "import torch.nn as nn\n",
    "import torch.optim as optim\n",
    "\n",
    "#dataloader\n",
    "from tools.SignalDataSet import SignalDataSet\n",
    "\n",
    "#model\n",
    "from tools.model import CNN_custom"
   ]
  },
  {
   "cell_type": "markdown",
   "metadata": {},
   "source": [
    "# 2. device 설정"
   ]
  },
  {
   "cell_type": "code",
   "execution_count": 2,
   "metadata": {},
   "outputs": [
    {
     "name": "stdout",
     "output_type": "stream",
     "text": [
      "cuda\n"
     ]
    }
   ],
   "source": [
    "DEVICE = torch.device(\"cuda\" if torch.cuda.is_available() else \"cpu\")\n",
    "print(DEVICE)"
   ]
  },
  {
   "cell_type": "markdown",
   "metadata": {},
   "source": [
    "# 3. 데이터"
   ]
  },
  {
   "cell_type": "code",
   "execution_count": 3,
   "metadata": {},
   "outputs": [],
   "source": [
    "with open('config/custom.json', 'r') as file:\n",
    "    data_dict = json.load(file)\n",
    "\n",
    "train_dataset = SignalDataSet(data_dict['train'],data_dict['class'])\n",
    "val_dataset = SignalDataSet(data_dict['val'],data_dict['class'])\n"
   ]
  },
  {
   "cell_type": "markdown",
   "metadata": {},
   "source": [
    "# 4. model설정"
   ]
  },
  {
   "cell_type": "code",
   "execution_count": 33,
   "metadata": {},
   "outputs": [],
   "source": [
    "# 모델 생성\n",
    "model = CNN_custom(len(data_dict['class'])).double().to(DEVICE)\n",
    "\n",
    "#파라미터 설정\n",
    "EPOCHS = 10\n",
    "BATCH_SIZE = 4\n",
    "lr = 1e-5\n",
    "\n",
    "optimizer = optim.Adam(model.parameters(), lr=lr)\n",
    "loss_func = nn.CrossEntropyLoss()\n",
    "\n",
    "# dataloader\n",
    "train_loader = DataLoader(train_dataset, batch_size=BATCH_SIZE, shuffle=True)\n",
    "val_loader = DataLoader(val_dataset, batch_size=BATCH_SIZE, shuffle=False)"
   ]
  },
  {
   "cell_type": "markdown",
   "metadata": {},
   "source": [
    "# 5. Train"
   ]
  },
  {
   "cell_type": "code",
   "execution_count": 36,
   "metadata": {},
   "outputs": [
    {
     "name": "stdout",
     "output_type": "stream",
     "text": [
      "Epochs 1\n",
      "train loss = 0.22771475670048646\n",
      "val loss = 0.4083011002464426\n",
      "val acc = 0.7739130434782608\n",
      "---------------------------------\n",
      "Epochs 2\n",
      "train loss = 0.08525554235741015\n",
      "val loss = 0.23763798973127642\n",
      "val acc = 0.8782608695652174\n",
      "---------------------------------\n",
      "Epochs 3\n",
      "train loss = 0.0012384736540945254\n",
      "val loss = 0.00035289041770250737\n",
      "val acc = 0.8173913043478261\n",
      "---------------------------------\n",
      "Epochs 4\n",
      "train loss = 0.0005149753519714511\n",
      "val loss = 0.00021492232836216546\n",
      "val acc = 0.8521739130434782\n",
      "---------------------------------\n",
      "Epochs 5\n",
      "train loss = 1.2953668149384886e-06\n",
      "val loss = 0.09731227610163125\n",
      "val acc = 0.9304347826086956\n",
      "---------------------------------\n",
      "Epochs 6\n",
      "train loss = 1.0217121807904326\n",
      "val loss = 1.2446152007007538e-07\n",
      "val acc = 0.8782608695652174\n",
      "---------------------------------\n",
      "Epochs 7\n",
      "train loss = 1.7662678785115518e-08\n",
      "val loss = 9.570304115812875e-06\n",
      "val acc = 0.9478260869565217\n",
      "---------------------------------\n",
      "Epochs 8\n",
      "train loss = 0.002752544989038408\n",
      "val loss = 0.0014468463596388052\n",
      "val acc = 0.9478260869565217\n",
      "---------------------------------\n",
      "Epochs 9\n",
      "train loss = 7.349676423017996e-14\n",
      "val loss = 1.0920620549452661e-07\n",
      "val acc = 0.9478260869565217\n",
      "---------------------------------\n",
      "Epochs 10\n",
      "train loss = 2.020401623374353e-10\n",
      "val loss = 5.2476541630611664e-14\n",
      "val acc = 0.9217391304347826\n",
      "---------------------------------\n"
     ]
    }
   ],
   "source": [
    "for i in range(EPOCHS):\n",
    "    best_model = None\n",
    "    best_acc = 0\n",
    "\n",
    "    # train\n",
    "    print(f\"Epochs {i+1}\")\n",
    "    train_loss_sum = 0\n",
    "    for [image,label] in train_loader:\n",
    "        x = image.double().to(DEVICE)\n",
    "        y = label.to(DEVICE)\n",
    "\n",
    "        output = model.forward(x)\n",
    "        _,output_max = torch.max(output,1)\n",
    "\n",
    "        loss = loss_func(output,y)\n",
    "        loss.backward()\n",
    "        optimizer.step()\n",
    "        train_loss_sum += loss.cpu().detach().numpy()\n",
    "    print(f\"train loss = {loss}\")\n",
    "\n",
    "    #val\n",
    "    val_loss_sum = 0\n",
    "    with torch.no_grad():\n",
    "        total = 0\n",
    "        correct = 0\n",
    "\n",
    "        for [image,label] in val_loader:\n",
    "            x = image.to(DEVICE)\n",
    "            y = label.to(DEVICE)\n",
    "\n",
    "            output = model.forward(x)\n",
    "            _,output_max = torch.max(output,1)\n",
    "\n",
    "            loss = loss_func(output,y)\n",
    "            val_loss_sum += loss.cpu().detach().numpy()\n",
    "\n",
    "            total += label.size(0)\n",
    "            correct += (output_max == torch.argmax(y,1)).sum().cpu().detach().numpy()\n",
    "            acc = correct / total\n",
    "\n",
    "            if acc > best_acc:\n",
    "                best_acc = acc\n",
    "                best_model = copy.deepcopy(model)\n",
    "\n",
    "    print(f\"val loss = {loss}\")\n",
    "    print(f\"val acc = {acc}\")\n",
    "    print(\"---------------------------------\")\n"
   ]
  },
  {
   "cell_type": "markdown",
   "metadata": {},
   "source": [
    "# 6. test & save"
   ]
  },
  {
   "cell_type": "code",
   "execution_count": 40,
   "metadata": {},
   "outputs": [
    {
     "name": "stdout",
     "output_type": "stream",
     "text": [
      "acc = 96.12068965517241%\n"
     ]
    }
   ],
   "source": [
    "test_dataset = SignalDataSet(data_dict['test'],data_dict['class'])\n",
    "test_loader = DataLoader(test_dataset, batch_size=1, shuffle=True)\n",
    "\n",
    "best_model.eval()\n",
    "\n",
    "count = 0\n",
    "correct = 0\n",
    "\n",
    "for [image,label] in test_loader:\n",
    "    count+=1\n",
    "    x = image.to(DEVICE)\n",
    "    predict = best_model(x).argmax()\n",
    "    gt = label.to(DEVICE).argmax()\n",
    "\n",
    "    if predict == gt:\n",
    "        correct+=1\n",
    "\n",
    "print(f\"acc = {correct/count*100}%\")\n",
    "\n",
    "folder_path = \"result/\" + data_dict['project_name']\n",
    "if not os.path.exists(folder_path):\n",
    "    os.makedirs(folder_path)\n",
    "torch.save(best_model.state_dict(),os.path.join(folder_path,'best.pth'))\n",
    "    "
   ]
  },
  {
   "cell_type": "code",
   "execution_count": null,
   "metadata": {},
   "outputs": [],
   "source": []
  }
 ],
 "metadata": {
  "kernelspec": {
   "display_name": "Python 3",
   "language": "python",
   "name": "python3"
  },
  "language_info": {
   "codemirror_mode": {
    "name": "ipython",
    "version": 3
   },
   "file_extension": ".py",
   "mimetype": "text/x-python",
   "name": "python",
   "nbconvert_exporter": "python",
   "pygments_lexer": "ipython3",
   "version": "3.8.10"
  },
  "orig_nbformat": 4
 },
 "nbformat": 4,
 "nbformat_minor": 2
}
