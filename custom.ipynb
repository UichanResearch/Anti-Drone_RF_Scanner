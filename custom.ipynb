{
 "cells": [
  {
   "cell_type": "code",
   "execution_count": 16,
   "metadata": {},
   "outputs": [],
   "source": [
    "# 필요한 모델들을 import 합니다.\n",
    "\n",
    "# 기본\n",
    "import os\n",
    "from tqdm import tqdm\n",
    "\n",
    "# 이미지 처리\n",
    "import cv2\n",
    "import numpy as np\n",
    "import matplotlib.pyplot as plt\n",
    "import random\n",
    "random.seed(42)\n",
    "\n",
    "\n",
    "# torch Data\n",
    "from torch.utils.data import Dataset\n",
    "import torchvision.transforms as transforms\n",
    "from torch.utils.data import DataLoader\n",
    "\n",
    "# model \n",
    "import torch\n",
    "import torch.nn as nn\n",
    "import torch.optim as optim\n",
    "\n",
    "#dataloader\n",
    "from tools.SignalDataSet import SignalDataSet\n",
    "\n",
    "# wandb\n",
    "import wandb"
   ]
  },
  {
   "cell_type": "code",
   "execution_count": 17,
   "metadata": {},
   "outputs": [
    {
     "name": "stdout",
     "output_type": "stream",
     "text": [
      "cuda\n"
     ]
    }
   ],
   "source": [
    "DEVICE = torch.device(\"cuda\" if torch.cuda.is_available() else \"cpu\")\n",
    "print(DEVICE)"
   ]
  },
  {
   "cell_type": "code",
   "execution_count": 18,
   "metadata": {},
   "outputs": [],
   "source": [
    "root_dir = \"Data/data2/\"\n",
    "train_dataset = SignalDataSet(root_dir+\"train\")\n",
    "val_dataset = SignalDataSet(root_dir+\"val\")\n",
    "test_dataset = SignalDataSet(root_dir+\"test\")"
   ]
  },
  {
   "cell_type": "code",
   "execution_count": 19,
   "metadata": {},
   "outputs": [],
   "source": [
    "class CNN(nn.Module):\n",
    "    def __init__(self):\n",
    "        super().__init__()\n",
    "        self.conv_layer = nn.Sequential(\n",
    "            nn.Conv2d(1,16,5), # 244 -> 240\n",
    "            nn.ReLU(),\n",
    "            nn.MaxPool2d(2,2), # 240 -> 120\n",
    "            nn.Conv2d(16,32,5), # 120 -> 116\n",
    "            nn.ReLU(),\n",
    "            nn.MaxPool2d(2,2), # 116 -> 58\n",
    "            nn.Conv2d(32,64,5), # 58 -> 54\n",
    "            nn.ReLU(),\n",
    "            nn.MaxPool2d(2,2), # 54 -> 27\n",
    "        )\n",
    "\n",
    "        self.fc = nn.Sequential(\n",
    "            nn.Linear(36864, 27*27),\n",
    "            nn.ReLU(),\n",
    "            nn.Linear(27*27, 100),\n",
    "            nn.ReLU(),\n",
    "            nn.Linear(100, 7),\n",
    "        )\n",
    "\n",
    "    def forward(self, x):\n",
    "        out = self.conv_layer(x)\n",
    "        out = out.view(out.size(0), -1) # 참고 view는 reshape과 역할 비슷\n",
    "        out = self.fc(out)\n",
    "        return out"
   ]
  },
  {
   "cell_type": "code",
   "execution_count": 20,
   "metadata": {},
   "outputs": [],
   "source": [
    "loss_func = nn.CrossEntropyLoss()"
   ]
  },
  {
   "cell_type": "code",
   "execution_count": 21,
   "metadata": {},
   "outputs": [
    {
     "data": {
      "text/html": [
       "wandb version 0.15.12 is available!  To upgrade, please run:\n",
       " $ pip install wandb --upgrade"
      ],
      "text/plain": [
       "<IPython.core.display.HTML object>"
      ]
     },
     "metadata": {},
     "output_type": "display_data"
    },
    {
     "data": {
      "text/html": [
       "Tracking run with wandb version 0.15.10"
      ],
      "text/plain": [
       "<IPython.core.display.HTML object>"
      ]
     },
     "metadata": {},
     "output_type": "display_data"
    },
    {
     "data": {
      "text/html": [
       "Run data is saved locally in <code>/home/uichan8/Desktop/drone_classification/wandb/run-20231009_214000-kaazxa3s</code>"
      ],
      "text/plain": [
       "<IPython.core.display.HTML object>"
      ]
     },
     "metadata": {},
     "output_type": "display_data"
    },
    {
     "data": {
      "text/html": [
       "Syncing run <strong><a href='https://wandb.ai/uichan980202/drone_classification/runs/kaazxa3s' target=\"_blank\">playful-leaf-9</a></strong> to <a href='https://wandb.ai/uichan980202/drone_classification' target=\"_blank\">Weights & Biases</a> (<a href='https://wandb.me/run' target=\"_blank\">docs</a>)<br/>"
      ],
      "text/plain": [
       "<IPython.core.display.HTML object>"
      ]
     },
     "metadata": {},
     "output_type": "display_data"
    },
    {
     "data": {
      "text/html": [
       " View project at <a href='https://wandb.ai/uichan980202/drone_classification' target=\"_blank\">https://wandb.ai/uichan980202/drone_classification</a>"
      ],
      "text/plain": [
       "<IPython.core.display.HTML object>"
      ]
     },
     "metadata": {},
     "output_type": "display_data"
    },
    {
     "data": {
      "text/html": [
       " View run at <a href='https://wandb.ai/uichan980202/drone_classification/runs/kaazxa3s' target=\"_blank\">https://wandb.ai/uichan980202/drone_classification/runs/kaazxa3s</a>"
      ],
      "text/plain": [
       "<IPython.core.display.HTML object>"
      ]
     },
     "metadata": {},
     "output_type": "display_data"
    }
   ],
   "source": [
    "# 모델 생성\n",
    "model = CNN().double().to(DEVICE)\n",
    "\n",
    "#파라미터 설정\n",
    "EPOCHS = 20\n",
    "BATCH_SIZE = 4\n",
    "lr = 0.00001\n",
    "\n",
    "optimizer = optim.Adam(model.parameters(), lr=lr)\n",
    "\n",
    "#wandb\n",
    "config={\n",
    "    \"architecture\": \"CNN-custom\",\n",
    "    \"dataset\": \"custom\",\n",
    "\n",
    "    \"batch_size\": BATCH_SIZE,\n",
    "    \"learning_rate\": BATCH_SIZE,\n",
    "    \"epochs\": EPOCHS,\n",
    "    }\n",
    "wandb.init(project=\"drone_classification\", config=config)\n",
    "wandb.run.name = 'CNN-custom1'\n",
    "\n",
    "# dataloader\n",
    "train_loader = DataLoader(train_dataset, batch_size=BATCH_SIZE, shuffle=True)\n",
    "val_loader = DataLoader(val_dataset, batch_size=BATCH_SIZE, shuffle=False)"
   ]
  },
  {
   "cell_type": "code",
   "execution_count": 22,
   "metadata": {},
   "outputs": [
    {
     "name": "stdout",
     "output_type": "stream",
     "text": [
      "Epochs 1\n",
      "train loss = 0.336051631856909\n",
      "val loss = 0.4832284432726211\n",
      "val acc = 0.6585365853658537\n",
      "---------------------------------\n",
      "Epochs 2\n",
      "train loss = 0.09259654007622134\n",
      "val loss = 1.1659860309814851\n",
      "val acc = 0.725609756097561\n",
      "---------------------------------\n",
      "Epochs 3\n",
      "train loss = 0.03933024472158356\n",
      "val loss = 0.001589364827648287\n",
      "val acc = 0.774390243902439\n",
      "---------------------------------\n",
      "Epochs 4\n",
      "train loss = 0.0001062679828171872\n",
      "val loss = 0.10273391546318507\n",
      "val acc = 0.8048780487804879\n",
      "---------------------------------\n",
      "Epochs 5\n",
      "train loss = 4.6748420867591856e-05\n",
      "val loss = 0.07592364970826973\n",
      "val acc = 0.7804878048780488\n",
      "---------------------------------\n",
      "Epochs 6\n"
     ]
    }
   ],
   "source": [
    "loss_arr = []\n",
    "\n",
    "for i in range(EPOCHS):\n",
    "    best_model = None\n",
    "    best_acc = 0\n",
    "\n",
    "    # train\n",
    "    print(f\"Epochs {i+1}\")\n",
    "    train_loss_sum = 0\n",
    "    for [image,label] in train_loader:\n",
    "        x = image.double().to(DEVICE)\n",
    "        y = label.to(DEVICE)\n",
    "\n",
    "        output = model.forward(x)\n",
    "        _,output_max = torch.max(output,1)\n",
    "\n",
    "        loss = loss_func(output,y)\n",
    "        loss.backward()\n",
    "        optimizer.step()\n",
    "        train_loss_sum += loss.cpu().detach().numpy()\n",
    "    print(f\"train loss = {loss}\")\n",
    "\n",
    "    #val\n",
    "    val_loss_sum = 0\n",
    "    with torch.no_grad():\n",
    "        total = 0\n",
    "        correct = 0\n",
    "\n",
    "        for [image,label] in val_loader:\n",
    "            x = image.to(DEVICE)\n",
    "            y = label.to(DEVICE)\n",
    "\n",
    "            output = model.forward(x)\n",
    "            _,output_max = torch.max(output,1)\n",
    "\n",
    "            loss = loss_func(output,y)\n",
    "            val_loss_sum += loss.cpu().detach().numpy()\n",
    "\n",
    "            total += label.size(0)\n",
    "            correct += (output_max == torch.argmax(y,1)).sum().cpu().detach().numpy()\n",
    "            acc = correct / total\n",
    "\n",
    "            if acc > best_acc:\n",
    "                best_acc = acc\n",
    "                best_model = model\n",
    "\n",
    "    wandb.log({\"train_loss\": train_loss_sum, \"val_loss\": val_loss_sum, \"val_acc\": acc})\n",
    "\n",
    "    print(f\"val loss = {loss}\")\n",
    "    print(f\"val acc = {acc}\")\n",
    "    print(\"---------------------------------\")\n",
    "\n",
    "wandb.finish()"
   ]
  },
  {
   "cell_type": "code",
   "execution_count": null,
   "metadata": {},
   "outputs": [],
   "source": [
    "# test data 생성\n",
    "test_size = 100\n",
    "test_data = make_circle(val_size) + make_triangle(val_size) + make_rectangle(val_size)\n",
    "test_label = [0] * val_size + [1] * val_size + [2] * val_size\n",
    "\n",
    "test_dataset = test_dataset\n",
    "test_loader = DataLoader(test_dataset, batch_size=3*test_size, shuffle=False)\n",
    "\n",
    "# 모델에서 backprop을 하지 않도록 설정\n",
    "best_model.eval()\n",
    "\n",
    "# test\n",
    "first_batch = next(iter(test_loader))\n",
    "result = best_model(first_batch[0].to(DEVICE))\n",
    "test_correct = (torch.argmax(result,1).cpu().detach().numpy() == torch.argmax(first_batch[1],1).numpy()).sum()\n",
    "test_acc = test_correct / len(test_data)\n",
    "\n",
    "print(f\"test acc = {test_acc}\") "
   ]
  },
  {
   "cell_type": "code",
   "execution_count": null,
   "metadata": {},
   "outputs": [],
   "source": []
  }
 ],
 "metadata": {
  "kernelspec": {
   "display_name": "Python 3",
   "language": "python",
   "name": "python3"
  },
  "language_info": {
   "codemirror_mode": {
    "name": "ipython",
    "version": 3
   },
   "file_extension": ".py",
   "mimetype": "text/x-python",
   "name": "python",
   "nbconvert_exporter": "python",
   "pygments_lexer": "ipython3",
   "version": "3.8.10"
  },
  "orig_nbformat": 4
 },
 "nbformat": 4,
 "nbformat_minor": 2
}
