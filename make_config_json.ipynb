{
 "cells": [
  {
   "cell_type": "markdown",
   "metadata": {},
   "source": [
    "# 1. 필요 모듈 import "
   ]
  },
  {
   "cell_type": "code",
   "execution_count": 51,
   "metadata": {},
   "outputs": [],
   "source": [
    "import json\n",
    "import os"
   ]
  },
  {
   "cell_type": "markdown",
   "metadata": {},
   "source": [
    "# 2. 모델 기본 정보 생성"
   ]
  },
  {
   "cell_type": "code",
   "execution_count": 52,
   "metadata": {},
   "outputs": [],
   "source": [
    "# 이부분 수정\n",
    "PROJECT_NAME = \"custom\"\n",
    "CLASS_NAME = ['bt','dji','none','fsk','two_drone']"
   ]
  },
  {
   "cell_type": "code",
   "execution_count": 53,
   "metadata": {},
   "outputs": [],
   "source": [
    "#수정 금지\n",
    "root = {}\n",
    "root[\"project_name\"] = PROJECT_NAME\n",
    "root[\"class\"] = CLASS_NAME"
   ]
  },
  {
   "cell_type": "markdown",
   "metadata": {},
   "source": [
    "# 3. train 데이터 path 입력"
   ]
  },
  {
   "cell_type": "code",
   "execution_count": 54,
   "metadata": {},
   "outputs": [],
   "source": [
    "train_path = {}\n",
    "\n",
    "none_train_root = \"Data/data2/train/none1\"\n",
    "none_train = [os.path.join(none_train_root,path) for path in os.listdir(none_train_root)]\n",
    "train_path['none'] = none_train\n",
    "\n",
    "dji_train_root = \"Data/data2/train/play_dji1\"\n",
    "dji_train = [os.path.join(dji_train_root,path) for path in os.listdir(dji_train_root)]\n",
    "train_path['dji'] = dji_train\n",
    "\n",
    "bt_train_root = \"Data/data2/train/play_bt1\"\n",
    "bt_train = [os.path.join(bt_train_root,path) for path in os.listdir(bt_train_root)]\n",
    "train_path['bt'] = bt_train\n",
    "\n",
    "fsk_train_root = \"Data/data2/train/fsk1\"\n",
    "fsk_train = [os.path.join(fsk_train_root,path) for path in os.listdir(fsk_train_root)]\n",
    "train_path['fsk'] = fsk_train\n",
    "\n",
    "two_drone_train_root = \"Data/data2/train/play_two_drone1\"\n",
    "two_drone_train = [os.path.join(two_drone_train_root,path) for path in os.listdir(two_drone_train_root)]\n",
    "train_path['two_drone'] = two_drone_train"
   ]
  },
  {
   "cell_type": "code",
   "execution_count": 55,
   "metadata": {},
   "outputs": [],
   "source": [
    "root['train'] = train_path"
   ]
  },
  {
   "cell_type": "markdown",
   "metadata": {},
   "source": [
    "# 4. val 데이터 path 입력"
   ]
  },
  {
   "cell_type": "code",
   "execution_count": 56,
   "metadata": {},
   "outputs": [],
   "source": [
    "val_path = {}\n",
    "\n",
    "none_val_root = \"Data/data2/val/none1\"\n",
    "none_val = [os.path.join(none_val_root,path) for path in os.listdir(none_val_root)]\n",
    "val_path['none'] = none_val\n",
    "\n",
    "dji_val_root = \"Data/data2/val/play_dji1\"\n",
    "dji_val = [os.path.join(dji_val_root,path) for path in os.listdir(dji_val_root)]\n",
    "val_path['dji'] = dji_val\n",
    "\n",
    "bt_val_root = \"Data/data2/val/play_bt1\"\n",
    "bt_val = [os.path.join(bt_val_root,path) for path in os.listdir(bt_val_root)]\n",
    "val_path['bt'] = bt_val\n",
    "\n",
    "fsk_val_root = \"Data/data2/val/fsk1\"\n",
    "fsk_val = [os.path.join(fsk_val_root,path) for path in os.listdir(fsk_val_root)]\n",
    "val_path['fsk'] = fsk_val\n",
    "\n",
    "two_drone_val_root = \"Data/data2/val/play_two_drone1\"\n",
    "two_drone_val = [os.path.join(two_drone_val_root,path) for path in os.listdir(two_drone_val_root)]\n",
    "val_path['two_drone'] = two_drone_val"
   ]
  },
  {
   "cell_type": "code",
   "execution_count": 57,
   "metadata": {},
   "outputs": [],
   "source": [
    "root['val'] = val_path"
   ]
  },
  {
   "cell_type": "markdown",
   "metadata": {},
   "source": [
    "# 5. test 데이터 path 입력"
   ]
  },
  {
   "cell_type": "code",
   "execution_count": 58,
   "metadata": {},
   "outputs": [],
   "source": [
    "test_path = {}\n",
    "\n",
    "none_test_root = \"Data/data2/test/none1\"\n",
    "none_test = [os.path.join(none_test_root,path) for path in os.listdir(none_test_root)]\n",
    "test_path['none'] = none_test\n",
    "\n",
    "dji_test_root = \"Data/data2/test/play_dji1\"\n",
    "dji_test = [os.path.join(dji_test_root,path) for path in os.listdir(dji_test_root)]\n",
    "test_path['dji'] = dji_test\n",
    "\n",
    "bt_test_root = \"Data/data2/test/play_bt1\"\n",
    "bt_test = [os.path.join(bt_test_root,path) for path in os.listdir(bt_test_root)]\n",
    "test_path['bt'] = bt_test\n",
    "\n",
    "fsk_test_root = \"Data/data2/test/fsk1\"\n",
    "fsk_test = [os.path.join(fsk_test_root,path) for path in os.listdir(fsk_test_root)]\n",
    "test_path['fsk'] = fsk_test\n",
    "\n",
    "two_drone_test_root = \"Data/data2/test/play_two_drone1\"\n",
    "two_drone_test = [os.path.join(two_drone_test_root,path) for path in os.listdir(two_drone_test_root)]\n",
    "test_path['two_drone'] = two_drone_test"
   ]
  },
  {
   "cell_type": "code",
   "execution_count": 59,
   "metadata": {},
   "outputs": [],
   "source": [
    "root['test'] = test_path"
   ]
  },
  {
   "cell_type": "markdown",
   "metadata": {},
   "source": [
    "# 6.json 저장"
   ]
  },
  {
   "cell_type": "code",
   "execution_count": 60,
   "metadata": {},
   "outputs": [],
   "source": [
    "with open('config/'+ PROJECT_NAME +'.json', 'w') as file:\n",
    "    json.dump(root, file, indent=4)"
   ]
  },
  {
   "cell_type": "code",
   "execution_count": null,
   "metadata": {},
   "outputs": [],
   "source": []
  },
  {
   "cell_type": "code",
   "execution_count": null,
   "metadata": {},
   "outputs": [],
   "source": []
  }
 ],
 "metadata": {
  "kernelspec": {
   "display_name": "Python 3",
   "language": "python",
   "name": "python3"
  },
  "language_info": {
   "codemirror_mode": {
    "name": "ipython",
    "version": 3
   },
   "file_extension": ".py",
   "mimetype": "text/x-python",
   "name": "python",
   "nbconvert_exporter": "python",
   "pygments_lexer": "ipython3",
   "version": "3.8.10"
  },
  "orig_nbformat": 4
 },
 "nbformat": 4,
 "nbformat_minor": 2
}
